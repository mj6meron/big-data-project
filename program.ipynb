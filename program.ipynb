{
 "cells": [
  {
   "cell_type": "code",
   "execution_count": 29,
   "id": "a2aa539d",
   "metadata": {},
   "outputs": [],
   "source": [
    "import yfinance as yf"
   ]
  },
  {
   "cell_type": "code",
   "execution_count": 5,
   "id": "5776d8b7",
   "metadata": {},
   "outputs": [],
   "source": [
    "import pyspark"
   ]
  },
  {
   "cell_type": "code",
   "execution_count": 6,
   "id": "86635e50",
   "metadata": {},
   "outputs": [],
   "source": [
    "from pyspark.sql import SparkSession"
   ]
  },
  {
   "cell_type": "code",
   "execution_count": 7,
   "id": "646c6228",
   "metadata": {},
   "outputs": [
    {
     "name": "stderr",
     "output_type": "stream",
     "text": [
      "Setting default log level to \"WARN\".\n",
      "To adjust logging level use sc.setLogLevel(newLevel). For SparkR, use setLogLevel(newLevel).\n"
     ]
    },
    {
     "name": "stdout",
     "output_type": "stream",
     "text": [
      "23/03/03 21:01:34 WARN NativeCodeLoader: Unable to load native-hadoop library for your platform... using builtin-java classes where applicable\n"
     ]
    }
   ],
   "source": [
    "spark=SparkSession.builder.appName(\"Gold\").getOrCreate()"
   ]
  },
  {
   "cell_type": "code",
   "execution_count": 26,
   "id": "638e2836",
   "metadata": {},
   "outputs": [
    {
     "data": {
      "text/html": [
       "\n",
       "            <div>\n",
       "                <p><b>SparkSession - in-memory</b></p>\n",
       "                \n",
       "        <div>\n",
       "            <p><b>SparkContext</b></p>\n",
       "\n",
       "            <p><a href=\"http://192.168.0.102:4040\">Spark UI</a></p>\n",
       "\n",
       "            <dl>\n",
       "              <dt>Version</dt>\n",
       "                <dd><code>v3.3.2</code></dd>\n",
       "              <dt>Master</dt>\n",
       "                <dd><code>local[*]</code></dd>\n",
       "              <dt>AppName</dt>\n",
       "                <dd><code>Gold</code></dd>\n",
       "            </dl>\n",
       "        </div>\n",
       "        \n",
       "            </div>\n",
       "        "
      ],
      "text/plain": [
       "<pyspark.sql.session.SparkSession at 0x131f96070>"
      ]
     },
     "execution_count": 26,
     "metadata": {},
     "output_type": "execute_result"
    }
   ],
   "source": [
    "spark"
   ]
  },
  {
   "cell_type": "code",
   "execution_count": 27,
   "id": "a704a0d4",
   "metadata": {},
   "outputs": [],
   "source": [
    "from pyspark.sql.functions import col, stddev, mean\n",
    "from pyspark.sql.window import Window"
   ]
  },
  {
   "cell_type": "code",
   "execution_count": 57,
   "id": "bb1bd845",
   "metadata": {},
   "outputs": [
    {
     "name": "stdout",
     "output_type": "stream",
     "text": [
      "[*********************100%***********************]  1 of 1 completed\n"
     ]
    }
   ],
   "source": [
    "# Fetch data from yfinance\n",
    "data = yf.download(\"AAPL\", start=\"1980-01-01\", end=\"2022-03-01\", interval=\"1d\")\n"
   ]
  },
  {
   "cell_type": "code",
   "execution_count": 51,
   "id": "69947581",
   "metadata": {},
   "outputs": [
    {
     "data": {
      "text/plain": [
       "5575"
      ]
     },
     "execution_count": 51,
     "metadata": {},
     "output_type": "execute_result"
    }
   ],
   "source": [
    "# Convert the pandas DataFrame to a PySpark DataFrame\n",
    "df = spark.createDataFrame(data.reset_index()).select(['Date','Open','Close'])\n",
    "df.count()"
   ]
  },
  {
   "cell_type": "code",
   "execution_count": 54,
   "id": "7bbcdaa8",
   "metadata": {},
   "outputs": [],
   "source": [
    "# Calculate the rolling mean and standard deviation of the closing price\n",
    "window = Window.orderBy(col(\"Date\")).rowsBetween(-29, 0)\n",
    "df = df.withColumn(\"rolling_mean\", mean(col(\"Close\")).over(window)) \\\n",
    "       .withColumn(\"rolling_stddev\", stddev(col(\"Close\")).over(window)).na.drop()"
   ]
  },
  {
   "cell_type": "code",
   "execution_count": null,
   "id": "b60c43a4",
   "metadata": {},
   "outputs": [],
   "source": []
  },
  {
   "cell_type": "code",
   "execution_count": 60,
   "id": "f0ca20b4",
   "metadata": {},
   "outputs": [
    {
     "name": "stdout",
     "output_type": "stream",
     "text": [
      "23/03/03 22:14:06 WARN WindowExec: No Partition Defined for Window operation! Moving all data to a single partition, this can cause serious performance degradation.\n",
      "23/03/03 22:14:06 WARN WindowExec: No Partition Defined for Window operation! Moving all data to a single partition, this can cause serious performance degradation.\n",
      "23/03/03 22:14:06 WARN WindowExec: No Partition Defined for Window operation! Moving all data to a single partition, this can cause serious performance degradation.\n",
      "23/03/03 22:14:06 WARN WindowExec: No Partition Defined for Window operation! Moving all data to a single partition, this can cause serious performance degradation.\n",
      "23/03/03 22:14:06 WARN WindowExec: No Partition Defined for Window operation! Moving all data to a single partition, this can cause serious performance degradation.\n",
      "+-------------------+------------------+------------------+------------------+-------------------+\n",
      "|               Date|              Open|             Close|      rolling_mean|     rolling_stddev|\n",
      "+-------------------+------------------+------------------+------------------+-------------------+\n",
      "|2000-01-04 00:00:00| 0.966517984867096|0.9151790142059326|0.9573104977607727|0.05958291544615387|\n",
      "|2000-01-05 00:00:00|0.9263389706611633|0.9285709857940674|0.9477306604385376|0.04528114128302451|\n",
      "|2000-01-06 00:00:00|0.9475449919700623|0.8482139706611633| 0.922851487994194|0.06199043520299742|\n",
      "|2000-01-07 00:00:00| 0.861607015132904| 0.888392984867096|0.9159597873687744|0.05585327412108275|\n",
      "+-------------------+------------------+------------------+------------------+-------------------+\n",
      "only showing top 4 rows\n",
      "\n"
     ]
    }
   ],
   "source": [
    "# Show the PySpark DataFrame\n",
    "df.show(4)"
   ]
  },
  {
   "cell_type": "code",
   "execution_count": null,
   "id": "efbdb625",
   "metadata": {},
   "outputs": [],
   "source": []
  },
  {
   "cell_type": "code",
   "execution_count": null,
   "id": "50faaf40",
   "metadata": {},
   "outputs": [],
   "source": []
  },
  {
   "cell_type": "code",
   "execution_count": null,
   "id": "146847a6",
   "metadata": {},
   "outputs": [],
   "source": []
  },
  {
   "cell_type": "code",
   "execution_count": null,
   "id": "504444cc",
   "metadata": {},
   "outputs": [],
   "source": []
  },
  {
   "cell_type": "code",
   "execution_count": null,
   "id": "3edb519a",
   "metadata": {},
   "outputs": [],
   "source": []
  },
  {
   "cell_type": "code",
   "execution_count": null,
   "id": "9854d065",
   "metadata": {},
   "outputs": [],
   "source": []
  },
  {
   "cell_type": "code",
   "execution_count": null,
   "id": "7c2eacac",
   "metadata": {},
   "outputs": [],
   "source": []
  },
  {
   "cell_type": "code",
   "execution_count": null,
   "id": "74157ec2",
   "metadata": {},
   "outputs": [],
   "source": []
  },
  {
   "cell_type": "code",
   "execution_count": null,
   "id": "2d3745b4",
   "metadata": {},
   "outputs": [],
   "source": []
  },
  {
   "cell_type": "code",
   "execution_count": null,
   "id": "66d210ec",
   "metadata": {},
   "outputs": [],
   "source": []
  },
  {
   "cell_type": "code",
   "execution_count": null,
   "id": "d930c3d7",
   "metadata": {},
   "outputs": [],
   "source": []
  },
  {
   "cell_type": "code",
   "execution_count": null,
   "id": "9fc80963",
   "metadata": {},
   "outputs": [],
   "source": []
  },
  {
   "cell_type": "code",
   "execution_count": null,
   "id": "c124eb9f",
   "metadata": {},
   "outputs": [],
   "source": []
  },
  {
   "cell_type": "code",
   "execution_count": null,
   "id": "6c63a0e2",
   "metadata": {},
   "outputs": [],
   "source": []
  },
  {
   "cell_type": "code",
   "execution_count": null,
   "id": "53b51198",
   "metadata": {},
   "outputs": [],
   "source": []
  },
  {
   "cell_type": "code",
   "execution_count": null,
   "id": "de2d559e",
   "metadata": {},
   "outputs": [
    {
     "name": "stderr",
     "output_type": "stream",
     "text": [
      "[Stage 20:====================>                                    (4 + 4) / 11]\r"
     ]
    }
   ],
   "source": [
    "## Lets define the dataset column type \n",
    "df_pyspark = spark.read.option('header', 'true').csv(all_data, inferSchema=True)\n",
    "df_pyspark.show(5)"
   ]
  },
  {
   "cell_type": "code",
   "execution_count": null,
   "id": "8c5c9da0",
   "metadata": {},
   "outputs": [],
   "source": [
    "# Calculate the size of the DataFrame in bytes\n",
    "size_bytes = df_pyspark.rdd.map(lambda x: x.__sizeof__()).reduce(lambda a, b: a + b)\n",
    "\n",
    "# Convert the size to gigabytes\n",
    "size_gb = size_bytes / (1024.0 ** 3)\n",
    "\n",
    "# Print the size in gigabytes\n",
    "print(\"DataFrame size: {:.2f} GB\".format(size_gb))"
   ]
  },
  {
   "cell_type": "code",
   "execution_count": null,
   "id": "390488a7",
   "metadata": {},
   "outputs": [],
   "source": [
    "df_pyspark = spark.createDataFrame(x, [\"file\", \"message\"])\n",
    "df_pyspark.show(5)"
   ]
  },
  {
   "cell_type": "code",
   "execution_count": 11,
   "id": "a6d5d8eb",
   "metadata": {
    "scrolled": true
   },
   "outputs": [
    {
     "name": "stdout",
     "output_type": "stream",
     "text": [
      "+--------------------+--------------------+\n",
      "|                file|             message|\n",
      "+--------------------+--------------------+\n",
      "|allen-p/_sent_mai...|Message-ID: <1878...|\n",
      "|allen-p/_sent_mai...|Message-ID: <1546...|\n",
      "|allen-p/_sent_mai...|Message-ID: <2421...|\n",
      "|allen-p/_sent_mai...|Message-ID: <1350...|\n",
      "|allen-p/_sent_mai...|Message-ID: <3092...|\n",
      "+--------------------+--------------------+\n",
      "\n"
     ]
    }
   ],
   "source": [
    "df_pyspark.show(10)"
   ]
  },
  {
   "cell_type": "code",
   "execution_count": null,
   "id": "a9421b93",
   "metadata": {},
   "outputs": [],
   "source": []
  },
  {
   "cell_type": "code",
   "execution_count": null,
   "id": "53ddd96f",
   "metadata": {},
   "outputs": [],
   "source": []
  },
  {
   "cell_type": "code",
   "execution_count": 20,
   "id": "036dfae2",
   "metadata": {},
   "outputs": [
    {
     "name": "stdout",
     "output_type": "stream",
     "text": [
      "+--------------------+--------------------+--------------------+--------------------+--------------------+\n",
      "|                file|             message|           EmailData|              Sender|            Receiver|\n",
      "+--------------------+--------------------+--------------------+--------------------+--------------------+\n",
      "|allen-p/_sent_mai...|Message-ID: <1878...|{phillip.allen@en...|phillip.allen@enr...|tim.belden@enron.com|\n",
      "|allen-p/_sent_mai...|Message-ID: <1546...|{phillip.allen@en...|phillip.allen@enr...|john.lavorato@enr...|\n",
      "|allen-p/_sent_mai...|Message-ID: <2421...|{phillip.allen@en...|phillip.allen@enr...|leah.arsdall@enro...|\n",
      "|allen-p/_sent_mai...|Message-ID: <1350...|{phillip.allen@en...|phillip.allen@enr...|randall.gay@enron...|\n",
      "|allen-p/_sent_mai...|Message-ID: <3092...|{phillip.allen@en...|phillip.allen@enr...|greg.piper@enron.com|\n",
      "+--------------------+--------------------+--------------------+--------------------+--------------------+\n",
      "\n"
     ]
    }
   ],
   "source": [
    "from pyspark.sql.types import StructType, StructField, StringType\n",
    "from pyspark.sql.functions import udf\n",
    "\n",
    "# Define a UDF to parse email message and extract sender and receiver\n",
    "def parse_email_message(message):\n",
    "    e = email.message_from_string(message)\n",
    "    sender = e.get('From')\n",
    "    reciever = e.get('To')\n",
    "    return (sender, reciever)\n",
    "\n",
    "# Define the schema for the struct type\n",
    "email_schema = StructType([\n",
    "    StructField('Sender', StringType(), True),\n",
    "    StructField('Receiver', StringType(), True)\n",
    "])\n",
    "\n",
    "# Convert the UDF to return a struct type\n",
    "parse_email_message_udf = udf(parse_email_message, email_schema)\n",
    "\n",
    "# Add columns for sender and receiver using the UDF\n",
    "df_pyspark = df_pyspark.withColumn('EmailData', parse_email_message_udf('message'))\n",
    "df_pyspark = df_pyspark.withColumn('Sender', df_pyspark['EmailData']['Sender'])\n",
    "df_pyspark = df_pyspark.withColumn('Receiver', df_pyspark['EmailData']['Receiver'])\n",
    "# Select only the necessary columns\n",
    "\n",
    "df_pyspark.show(15)"
   ]
  },
  {
   "cell_type": "code",
   "execution_count": 14,
   "id": "c94f1a7d",
   "metadata": {},
   "outputs": [
    {
     "name": "stderr",
     "output_type": "stream",
     "text": [
      "                                                                                \r"
     ]
    },
    {
     "name": "stdout",
     "output_type": "stream",
     "text": [
      "+--------------------+--------------------+---------+------+--------+\n",
      "|                file|             message|EmailData|Sender|Receiver|\n",
      "+--------------------+--------------------+---------+------+--------+\n",
      "|allen-p/_sent_mai...|Message-ID: <1878...|     null|  null|    null|\n",
      "|allen-p/_sent_mai...|Message-ID: <1546...|     null|  null|    null|\n",
      "|allen-p/_sent_mai...|Message-ID: <2421...|     null|  null|    null|\n",
      "|allen-p/_sent_mai...|Message-ID: <1350...|     null|  null|    null|\n",
      "|allen-p/_sent_mai...|Message-ID: <3092...|     null|  null|    null|\n",
      "+--------------------+--------------------+---------+------+--------+\n",
      "\n"
     ]
    }
   ],
   "source": [
    "from pyspark.sql.types import StructType, StructField, StringType\n",
    "from pyspark.sql.functions import udf\n",
    "\n",
    "# Define a UDF to parse email message and extract sender and receiver\n",
    "def parse_email_message(message):\n",
    "    e = email.message_from_string(message)\n",
    "    e = email.message_from_string(message)\n",
    "    sender = e.get('From')\n",
    "    reciever = e.get('To')\n",
    "    #print(f\"Message: {message}\")\n",
    "    #print(f\"Sender: {sender}\")\n",
    "    #print(f\"Receiver: {reciever}\")\n",
    "    #return (sender, reciever)\n",
    "\n",
    "# Define the schema for the struct type\n",
    "email_schema = StructType([\n",
    "    StructField('Sender', StringType(), True),\n",
    "    StructField('Receiver', StringType(), True)\n",
    "])\n",
    "\n",
    "# Convert the UDF to return a struct type\n",
    "parse_email_message_udf = udf(parse_email_message, email_schema)\n",
    "\n",
    "# Add columns for sender and receiver using the UDF\n",
    "df_pyspark = df_pyspark.withColumn('EmailData', parse_email_message_udf('message'))\n",
    "df_pyspark = df_pyspark.withColumn('Sender', df_pyspark['EmailData']['Sender'])\n",
    "df_pyspark = df_pyspark.withColumn('Receiver', df_pyspark['EmailData']['Receiver'])\n",
    "\n",
    "# Show the first few rows of the DataFrame\n",
    "df_pyspark.show(5)\n"
   ]
  },
  {
   "cell_type": "code",
   "execution_count": null,
   "id": "2478c435",
   "metadata": {},
   "outputs": [],
   "source": []
  },
  {
   "cell_type": "code",
   "execution_count": null,
   "id": "26f1be3f",
   "metadata": {},
   "outputs": [],
   "source": []
  },
  {
   "cell_type": "code",
   "execution_count": null,
   "id": "52df4139",
   "metadata": {},
   "outputs": [],
   "source": []
  },
  {
   "cell_type": "code",
   "execution_count": null,
   "id": "a111b957",
   "metadata": {},
   "outputs": [],
   "source": []
  }
 ],
 "metadata": {
  "kernelspec": {
   "display_name": "Python 3 (ipykernel)",
   "language": "python",
   "name": "python3"
  },
  "language_info": {
   "codemirror_mode": {
    "name": "ipython",
    "version": 3
   },
   "file_extension": ".py",
   "mimetype": "text/x-python",
   "name": "python",
   "nbconvert_exporter": "python",
   "pygments_lexer": "ipython3",
   "version": "3.9.12"
  }
 },
 "nbformat": 4,
 "nbformat_minor": 5
}
