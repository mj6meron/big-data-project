{
 "cells": [
  {
   "cell_type": "code",
   "execution_count": 1,
   "id": "a2aa539d",
   "metadata": {},
   "outputs": [],
   "source": [
    "import yfinance as yf"
   ]
  },
  {
   "cell_type": "code",
   "execution_count": 2,
   "id": "5776d8b7",
   "metadata": {},
   "outputs": [],
   "source": [
    "import pyspark"
   ]
  },
  {
   "cell_type": "code",
   "execution_count": 3,
   "id": "86635e50",
   "metadata": {},
   "outputs": [],
   "source": [
    "from pyspark.sql import SparkSession"
   ]
  },
  {
   "cell_type": "code",
   "execution_count": 4,
   "id": "646c6228",
   "metadata": {},
   "outputs": [
    {
     "name": "stderr",
     "output_type": "stream",
     "text": [
      "Setting default log level to \"WARN\".\n",
      "To adjust logging level use sc.setLogLevel(newLevel). For SparkR, use setLogLevel(newLevel).\n"
     ]
    },
    {
     "name": "stdout",
     "output_type": "stream",
     "text": [
      "23/03/06 00:05:15 WARN NativeCodeLoader: Unable to load native-hadoop library for your platform... using builtin-java classes where applicable\n"
     ]
    }
   ],
   "source": [
    "spark=SparkSession.builder.appName(\"Gold\").getOrCreate()"
   ]
  },
  {
   "cell_type": "code",
   "execution_count": 5,
   "id": "638e2836",
   "metadata": {},
   "outputs": [
    {
     "data": {
      "text/html": [
       "\n",
       "            <div>\n",
       "                <p><b>SparkSession - in-memory</b></p>\n",
       "                \n",
       "        <div>\n",
       "            <p><b>SparkContext</b></p>\n",
       "\n",
       "            <p><a href=\"http://192.168.0.102:4040\">Spark UI</a></p>\n",
       "\n",
       "            <dl>\n",
       "              <dt>Version</dt>\n",
       "                <dd><code>v3.3.2</code></dd>\n",
       "              <dt>Master</dt>\n",
       "                <dd><code>local[*]</code></dd>\n",
       "              <dt>AppName</dt>\n",
       "                <dd><code>Gold</code></dd>\n",
       "            </dl>\n",
       "        </div>\n",
       "        \n",
       "            </div>\n",
       "        "
      ],
      "text/plain": [
       "<pyspark.sql.session.SparkSession at 0x11de4a040>"
      ]
     },
     "execution_count": 5,
     "metadata": {},
     "output_type": "execute_result"
    }
   ],
   "source": [
    "spark"
   ]
  },
  {
   "cell_type": "code",
   "execution_count": 6,
   "id": "a704a0d4",
   "metadata": {},
   "outputs": [],
   "source": [
    "from pyspark.sql.functions import col, stddev, mean\n",
    "from pyspark.sql.window import Window"
   ]
  },
  {
   "cell_type": "code",
   "execution_count": 7,
   "id": "bb1bd845",
   "metadata": {},
   "outputs": [
    {
     "name": "stdout",
     "output_type": "stream",
     "text": [
      "[*********************100%***********************]  1 of 1 completed\n"
     ]
    },
    {
     "data": {
      "text/plain": [
       "<AxesSubplot:xlabel='Date'>"
      ]
     },
     "execution_count": 7,
     "metadata": {},
     "output_type": "execute_result"
    },
    {
     "data": {
      "image/png": "[encoded data removed]",
      "text/plain": [
       "<Figure size 1440x576 with 1 Axes>"
      ]
     },
     "metadata": {
      "needs_background": "light"
     },
     "output_type": "display_data"
    }
   ],
   "source": [
    "# Fetch data from yfinance\n",
    "data = yf.download(\"AAPL\", start=\"1980-01-01\", end=\"2022-03-01\", interval=\"1d\")\n",
    "data['Close'].plot(figsize = (20,8)) "
   ]
  },
  {
   "cell_type": "code",
   "execution_count": 8,
   "id": "69947581",
   "metadata": {},
   "outputs": [
    {
     "name": "stderr",
     "output_type": "stream",
     "text": [
      "                                                                                \r"
     ]
    },
    {
     "data": {
      "text/plain": [
       "10391"
      ]
     },
     "execution_count": 8,
     "metadata": {},
     "output_type": "execute_result"
    }
   ],
   "source": [
    "# Convert the pandas DataFrame to a PySpark DataFrame\n",
    "df = spark.createDataFrame(data.reset_index()).select(['Date','Open','Close'])\n",
    "df.count()"
   ]
  },
  {
   "cell_type": "code",
   "execution_count": 19,
   "id": "7bbcdaa8",
   "metadata": {},
   "outputs": [],
   "source": [
    "# Calculate the rolling mean and standard deviation of the closing price\n",
    "window = Window.orderBy(col(\"Date\")).rowsBetween(-200, 0)\n",
    "df = df.withColumn(\"rolling_mean\", mean(col(\"Close\")).over(window)) \\\n",
    "       .withColumn(\"rolling_stddev\", stddev(col(\"Close\")).over(window)).na.drop()"
   ]
  },
  {
   "cell_type": "code",
   "execution_count": null,
   "id": "b60c43a4",
   "metadata": {},
   "outputs": [],
   "source": []
  },
  {
   "cell_type": "code",
   "execution_count": 20,
   "id": "f0ca20b4",
   "metadata": {},
   "outputs": [
    {
     "name": "stdout",
     "output_type": "stream",
     "text": [
      "23/03/06 00:13:13 WARN WindowExec: No Partition Defined for Window operation! Moving all data to a single partition, this can cause serious performance degradation.\n",
      "23/03/06 00:13:13 WARN WindowExec: No Partition Defined for Window operation! Moving all data to a single partition, this can cause serious performance degradation.\n",
      "23/03/06 00:13:13 WARN WindowExec: No Partition Defined for Window operation! Moving all data to a single partition, this can cause serious performance degradation.\n",
      "23/03/06 00:13:13 WARN WindowExec: No Partition Defined for Window operation! Moving all data to a single partition, this can cause serious performance degradation.\n",
      "23/03/06 00:13:13 WARN WindowExec: No Partition Defined for Window operation! Moving all data to a single partition, this can cause serious performance degradation.\n"
     ]
    },
    {
     "name": "stderr",
     "output_type": "stream",
     "text": [
      "[Stage 12:==============>                                           (1 + 3) / 4]\r"
     ]
    },
    {
     "name": "stdout",
     "output_type": "stream",
     "text": [
      "23/03/06 00:13:15 WARN WindowExec: No Partition Defined for Window operation! Moving all data to a single partition, this can cause serious performance degradation.\n",
      "23/03/06 00:13:15 WARN WindowExec: No Partition Defined for Window operation! Moving all data to a single partition, this can cause serious performance degradation.\n",
      "23/03/06 00:13:15 WARN WindowExec: No Partition Defined for Window operation! Moving all data to a single partition, this can cause serious performance degradation.\n",
      "23/03/06 00:13:15 WARN WindowExec: No Partition Defined for Window operation! Moving all data to a single partition, this can cause serious performance degradation.\n",
      "+-------------------+-------------------+-------------------+-------------------+--------------------+\n",
      "|               Date|               Open|              Close|       rolling_mean|      rolling_stddev|\n",
      "+-------------------+-------------------+-------------------+-------------------+--------------------+\n",
      "|1980-12-16 00:00:00| 0.1132809966802597|0.11272300034761429|          0.1171875|0.006313755957613841|\n",
      "|1980-12-17 00:00:00|0.11551299691200256|0.11551299691200256|0.11662933230400085|0.004567976650194605|\n",
      "|1980-12-18 00:00:00|0.11886200308799744|0.11886200308799744|          0.1171875|0.003893217841140761|\n",
      "|1980-12-19 00:00:00|0.12611599266529083|0.12611599266529083|0.11897319853305817|0.005226036272717879|\n",
      "+-------------------+-------------------+-------------------+-------------------+--------------------+\n",
      "only showing top 4 rows\n",
      "\n"
     ]
    },
    {
     "name": "stderr",
     "output_type": "stream",
     "text": [
      "\r",
      "[Stage 12:===========================================>              (3 + 1) / 4]\r",
      "\r",
      "[Stage 14:>                                                         (0 + 1) / 1]\r",
      "\r",
      "                                                                                \r"
     ]
    }
   ],
   "source": [
    "# Show the PySpark DataFrame\n",
    "df.show(4)"
   ]
  },
  {
   "cell_type": "markdown",
   "id": "55231562",
   "metadata": {},
   "source": [
    "# converting to pandas for visualization"
   ]
  },
  {
   "cell_type": "code",
   "execution_count": 21,
   "id": "84883dfe",
   "metadata": {},
   "outputs": [],
   "source": [
    "import matplotlib.pyplot as plt"
   ]
  },
  {
   "cell_type": "code",
   "execution_count": 22,
   "id": "efbdb625",
   "metadata": {
    "scrolled": true
   },
   "outputs": [
    {
     "name": "stdout",
     "output_type": "stream",
     "text": [
      "23/03/06 00:13:31 WARN WindowExec: No Partition Defined for Window operation! Moving all data to a single partition, this can cause serious performance degradation.\n",
      "23/03/06 00:13:31 WARN WindowExec: No Partition Defined for Window operation! Moving all data to a single partition, this can cause serious performance degradation.\n",
      "23/03/06 00:13:31 WARN WindowExec: No Partition Defined for Window operation! Moving all data to a single partition, this can cause serious performance degradation.\n",
      "23/03/06 00:13:31 WARN WindowExec: No Partition Defined for Window operation! Moving all data to a single partition, this can cause serious performance degradation.\n",
      "23/03/06 00:13:31 WARN WindowExec: No Partition Defined for Window operation! Moving all data to a single partition, this can cause serious performance degradation.\n"
     ]
    },
    {
     "name": "stderr",
     "output_type": "stream",
     "text": [
      "[Stage 15:===========================================>              (3 + 1) / 4]\r"
     ]
    },
    {
     "name": "stdout",
     "output_type": "stream",
     "text": [
      "23/03/06 00:13:32 WARN WindowExec: No Partition Defined for Window operation! Moving all data to a single partition, this can cause serious performance degradation.\n",
      "23/03/06 00:13:32 WARN WindowExec: No Partition Defined for Window operation! Moving all data to a single partition, this can cause serious performance degradation.\n",
      "23/03/06 00:13:32 WARN WindowExec: No Partition Defined for Window operation! Moving all data to a single partition, this can cause serious performance degradation.\n",
      "23/03/06 00:13:32 WARN WindowExec: No Partition Defined for Window operation! Moving all data to a single partition, this can cause serious performance degradation.\n"
     ]
    },
    {
     "name": "stderr",
     "output_type": "stream",
     "text": [
      "                                                                                \r"
     ]
    }
   ],
   "source": [
    "pdf = df.toPandas()"
   ]
  },
  {
   "cell_type": "code",
   "execution_count": 23,
   "id": "50faaf40",
   "metadata": {},
   "outputs": [
    {
     "data": {
      "text/html": [
       "<div>\n",
       "<style scoped>\n",
       "    .dataframe tbody tr th:only-of-type {\n",
       "        vertical-align: middle;\n",
       "    }\n",
       "\n",
       "    .dataframe tbody tr th {\n",
       "        vertical-align: top;\n",
       "    }\n",
       "\n",
       "    .dataframe thead th {\n",
       "        text-align: right;\n",
       "    }\n",
       "</style>\n",
       "<table border=\"1\" class=\"dataframe\">\n",
       "  <thead>\n",
       "    <tr style=\"text-align: right;\">\n",
       "      <th></th>\n",
       "      <th>Date</th>\n",
       "      <th>Open</th>\n",
       "      <th>Close</th>\n",
       "      <th>rolling_mean</th>\n",
       "      <th>rolling_stddev</th>\n",
       "    </tr>\n",
       "  </thead>\n",
       "  <tbody>\n",
       "    <tr>\n",
       "      <th>0</th>\n",
       "      <td>1980-12-16</td>\n",
       "      <td>0.113281</td>\n",
       "      <td>0.112723</td>\n",
       "      <td>0.117188</td>\n",
       "      <td>0.006314</td>\n",
       "    </tr>\n",
       "    <tr>\n",
       "      <th>1</th>\n",
       "      <td>1980-12-17</td>\n",
       "      <td>0.115513</td>\n",
       "      <td>0.115513</td>\n",
       "      <td>0.116629</td>\n",
       "      <td>0.004568</td>\n",
       "    </tr>\n",
       "    <tr>\n",
       "      <th>2</th>\n",
       "      <td>1980-12-18</td>\n",
       "      <td>0.118862</td>\n",
       "      <td>0.118862</td>\n",
       "      <td>0.117188</td>\n",
       "      <td>0.003893</td>\n",
       "    </tr>\n",
       "    <tr>\n",
       "      <th>3</th>\n",
       "      <td>1980-12-19</td>\n",
       "      <td>0.126116</td>\n",
       "      <td>0.126116</td>\n",
       "      <td>0.118973</td>\n",
       "      <td>0.005226</td>\n",
       "    </tr>\n",
       "    <tr>\n",
       "      <th>4</th>\n",
       "      <td>1980-12-22</td>\n",
       "      <td>0.132254</td>\n",
       "      <td>0.132254</td>\n",
       "      <td>0.121187</td>\n",
       "      <td>0.007159</td>\n",
       "    </tr>\n",
       "  </tbody>\n",
       "</table>\n",
       "</div>"
      ],
      "text/plain": [
       "        Date      Open     Close  rolling_mean  rolling_stddev\n",
       "0 1980-12-16  0.113281  0.112723      0.117188        0.006314\n",
       "1 1980-12-17  0.115513  0.115513      0.116629        0.004568\n",
       "2 1980-12-18  0.118862  0.118862      0.117188        0.003893\n",
       "3 1980-12-19  0.126116  0.126116      0.118973        0.005226\n",
       "4 1980-12-22  0.132254  0.132254      0.121187        0.007159"
      ]
     },
     "execution_count": 23,
     "metadata": {},
     "output_type": "execute_result"
    }
   ],
   "source": [
    "pdf.head()"
   ]
  },
  {
   "cell_type": "code",
   "execution_count": 24,
   "id": "146847a6",
   "metadata": {},
   "outputs": [
    {
     "data": {
      "text/plain": [
       "<matplotlib.legend.Legend at 0x11ff77a60>"
      ]
     },
     "execution_count": 24,
     "metadata": {},
     "output_type": "execute_result"
    },
    {
     "data": {
      "image/png": "[encoded data removed]",
      "text/plain": [
       "<Figure size 1800x648 with 1 Axes>"
      ]
     },
     "metadata": {
      "needs_background": "light"
     },
     "output_type": "display_data"
    }
   ],
   "source": [
    "# Visualizing the rolling_mean\n",
    "pdf.rolling_mean.plot(figsize=(25,9))\n",
    "pdf['Close'].plot()\n",
    "#pdf.Open.plot()\n",
    "plt.legend(['rolling_mean','Close'])"
   ]
  },
  {
   "cell_type": "code",
   "execution_count": 25,
   "id": "504444cc",
   "metadata": {},
   "outputs": [
    {
     "data": {
      "text/plain": [
       "<matplotlib.legend.Legend at 0x12005d280>"
      ]
     },
     "execution_count": 25,
     "metadata": {},
     "output_type": "execute_result"
    },
    {
     "data": {
      "image/png": "[encoded data removed]",
      "text/plain": [
       "<Figure size 1800x648 with 1 Axes>"
      ]
     },
     "metadata": {
      "needs_background": "light"
     },
     "output_type": "display_data"
    }
   ],
   "source": [
    "# Visualizing the rolling_mean\n",
    "pdf.rolling_stddev.plot(figsize=(25,9))\n",
    "pdf['Close'].plot()\n",
    "#pdf.Open.plot()\n",
    "plt.legend(['rolling_stddev','Close'])"
   ]
  },
  {
   "cell_type": "code",
   "execution_count": null,
   "id": "3edb519a",
   "metadata": {},
   "outputs": [],
   "source": []
  },
  {
   "cell_type": "code",
   "execution_count": null,
   "id": "9854d065",
   "metadata": {},
   "outputs": [],
   "source": []
  },
  {
   "cell_type": "code",
   "execution_count": null,
   "id": "7c2eacac",
   "metadata": {},
   "outputs": [],
   "source": []
  },
  {
   "cell_type": "code",
   "execution_count": null,
   "id": "74157ec2",
   "metadata": {},
   "outputs": [],
   "source": []
  },
  {
   "cell_type": "code",
   "execution_count": null,
   "id": "2d3745b4",
   "metadata": {},
   "outputs": [],
   "source": []
  },
  {
   "cell_type": "code",
   "execution_count": null,
   "id": "66d210ec",
   "metadata": {},
   "outputs": [],
   "source": []
  },
  {
   "cell_type": "code",
   "execution_count": null,
   "id": "d930c3d7",
   "metadata": {},
   "outputs": [],
   "source": []
  },
  {
   "cell_type": "code",
   "execution_count": null,
   "id": "9fc80963",
   "metadata": {},
   "outputs": [],
   "source": []
  },
  {
   "cell_type": "code",
   "execution_count": null,
   "id": "c124eb9f",
   "metadata": {},
   "outputs": [],
   "source": []
  },
  {
   "cell_type": "code",
   "execution_count": null,
   "id": "6c63a0e2",
   "metadata": {},
   "outputs": [],
   "source": []
  },
  {
   "cell_type": "code",
   "execution_count": null,
   "id": "53b51198",
   "metadata": {},
   "outputs": [],
   "source": []
  },
  {
   "cell_type": "code",
   "execution_count": null,
   "id": "de2d559e",
   "metadata": {},
   "outputs": [
    {
     "name": "stderr",
     "output_type": "stream",
     "text": [
      "[Stage 20:====================>                                    (4 + 4) / 11]\r"
     ]
    }
   ],
   "source": [
    "## Lets define the dataset column type \n",
    "df_pyspark = spark.read.option('header', 'true').csv(all_data, inferSchema=True)\n",
    "df_pyspark.show(5)"
   ]
  },
  {
   "cell_type": "code",
   "execution_count": null,
   "id": "8c5c9da0",
   "metadata": {},
   "outputs": [],
   "source": [
    "# Calculate the size of the DataFrame in bytes\n",
    "size_bytes = df_pyspark.rdd.map(lambda x: x.__sizeof__()).reduce(lambda a, b: a + b)\n",
    "\n",
    "# Convert the size to gigabytes\n",
    "size_gb = size_bytes / (1024.0 ** 3)\n",
    "\n",
    "# Print the size in gigabytes\n",
    "print(\"DataFrame size: {:.2f} GB\".format(size_gb))"
   ]
  },
  {
   "cell_type": "code",
   "execution_count": null,
   "id": "390488a7",
   "metadata": {},
   "outputs": [],
   "source": [
    "df_pyspark = spark.createDataFrame(x, [\"file\", \"message\"])\n",
    "df_pyspark.show(5)"
   ]
  },
  {
   "cell_type": "code",
   "execution_count": 11,
   "id": "a6d5d8eb",
   "metadata": {
    "scrolled": true
   },
   "outputs": [
    {
     "name": "stdout",
     "output_type": "stream",
     "text": [
      "+--------------------+--------------------+\n",
      "|                file|             message|\n",
      "+--------------------+--------------------+\n",
      "|allen-p/_sent_mai...|Message-ID: <1878...|\n",
      "|allen-p/_sent_mai...|Message-ID: <1546...|\n",
      "|allen-p/_sent_mai...|Message-ID: <2421...|\n",
      "|allen-p/_sent_mai...|Message-ID: <1350...|\n",
      "|allen-p/_sent_mai...|Message-ID: <3092...|\n",
      "+--------------------+--------------------+\n",
      "\n"
     ]
    }
   ],
   "source": [
    "df_pyspark.show(10)"
   ]
  },
  {
   "cell_type": "code",
   "execution_count": null,
   "id": "a9421b93",
   "metadata": {},
   "outputs": [],
   "source": []
  },
  {
   "cell_type": "code",
   "execution_count": null,
   "id": "53ddd96f",
   "metadata": {},
   "outputs": [],
   "source": []
  },
  {
   "cell_type": "code",
   "execution_count": 20,
   "id": "036dfae2",
   "metadata": {},
   "outputs": [
    {
     "name": "stdout",
     "output_type": "stream",
     "text": [
      "+--------------------+--------------------+--------------------+--------------------+--------------------+\n",
      "|                file|             message|           EmailData|              Sender|            Receiver|\n",
      "+--------------------+--------------------+--------------------+--------------------+--------------------+\n",
      "|allen-p/_sent_mai...|Message-ID: <1878...|{phillip.allen@en...|phillip.allen@enr...|tim.belden@enron.com|\n",
      "|allen-p/_sent_mai...|Message-ID: <1546...|{phillip.allen@en...|phillip.allen@enr...|john.lavorato@enr...|\n",
      "|allen-p/_sent_mai...|Message-ID: <2421...|{phillip.allen@en...|phillip.allen@enr...|leah.arsdall@enro...|\n",
      "|allen-p/_sent_mai...|Message-ID: <1350...|{phillip.allen@en...|phillip.allen@enr...|randall.gay@enron...|\n",
      "|allen-p/_sent_mai...|Message-ID: <3092...|{phillip.allen@en...|phillip.allen@enr...|greg.piper@enron.com|\n",
      "+--------------------+--------------------+--------------------+--------------------+--------------------+\n",
      "\n"
     ]
    }
   ],
   "source": [
    "from pyspark.sql.types import StructType, StructField, StringType\n",
    "from pyspark.sql.functions import udf\n",
    "\n",
    "# Define a UDF to parse email message and extract sender and receiver\n",
    "def parse_email_message(message):\n",
    "    e = email.message_from_string(message)\n",
    "    sender = e.get('From')\n",
    "    reciever = e.get('To')\n",
    "    return (sender, reciever)\n",
    "\n",
    "# Define the schema for the struct type\n",
    "email_schema = StructType([\n",
    "    StructField('Sender', StringType(), True),\n",
    "    StructField('Receiver', StringType(), True)\n",
    "])\n",
    "\n",
    "# Convert the UDF to return a struct type\n",
    "parse_email_message_udf = udf(parse_email_message, email_schema)\n",
    "\n",
    "# Add columns for sender and receiver using the UDF\n",
    "df_pyspark = df_pyspark.withColumn('EmailData', parse_email_message_udf('message'))\n",
    "df_pyspark = df_pyspark.withColumn('Sender', df_pyspark['EmailData']['Sender'])\n",
    "df_pyspark = df_pyspark.withColumn('Receiver', df_pyspark['EmailData']['Receiver'])\n",
    "# Select only the necessary columns\n",
    "\n",
    "df_pyspark.show(15)"
   ]
  },
  {
   "cell_type": "code",
   "execution_count": 14,
   "id": "c94f1a7d",
   "metadata": {},
   "outputs": [
    {
     "name": "stderr",
     "output_type": "stream",
     "text": [
      "                                                                                \r"
     ]
    },
    {
     "name": "stdout",
     "output_type": "stream",
     "text": [
      "+--------------------+--------------------+---------+------+--------+\n",
      "|                file|             message|EmailData|Sender|Receiver|\n",
      "+--------------------+--------------------+---------+------+--------+\n",
      "|allen-p/_sent_mai...|Message-ID: <1878...|     null|  null|    null|\n",
      "|allen-p/_sent_mai...|Message-ID: <1546...|     null|  null|    null|\n",
      "|allen-p/_sent_mai...|Message-ID: <2421...|     null|  null|    null|\n",
      "|allen-p/_sent_mai...|Message-ID: <1350...|     null|  null|    null|\n",
      "|allen-p/_sent_mai...|Message-ID: <3092...|     null|  null|    null|\n",
      "+--------------------+--------------------+---------+------+--------+\n",
      "\n"
     ]
    }
   ],
   "source": [
    "from pyspark.sql.types import StructType, StructField, StringType\n",
    "from pyspark.sql.functions import udf\n",
    "\n",
    "# Define a UDF to parse email message and extract sender and receiver\n",
    "def parse_email_message(message):\n",
    "    e = email.message_from_string(message)\n",
    "    e = email.message_from_string(message)\n",
    "    sender = e.get('From')\n",
    "    reciever = e.get('To')\n",
    "    #print(f\"Message: {message}\")\n",
    "    #print(f\"Sender: {sender}\")\n",
    "    #print(f\"Receiver: {reciever}\")\n",
    "    #return (sender, reciever)\n",
    "\n",
    "# Define the schema for the struct type\n",
    "email_schema = StructType([\n",
    "    StructField('Sender', StringType(), True),\n",
    "    StructField('Receiver', StringType(), True)\n",
    "])\n",
    "\n",
    "# Convert the UDF to return a struct type\n",
    "parse_email_message_udf = udf(parse_email_message, email_schema)\n",
    "\n",
    "# Add columns for sender and receiver using the UDF\n",
    "df_pyspark = df_pyspark.withColumn('EmailData', parse_email_message_udf('message'))\n",
    "df_pyspark = df_pyspark.withColumn('Sender', df_pyspark['EmailData']['Sender'])\n",
    "df_pyspark = df_pyspark.withColumn('Receiver', df_pyspark['EmailData']['Receiver'])\n",
    "\n",
    "# Show the first few rows of the DataFrame\n",
    "df_pyspark.show(5)\n"
   ]
  },
  {
   "cell_type": "code",
   "execution_count": null,
   "id": "2478c435",
   "metadata": {},
   "outputs": [],
   "source": []
  },
  {
   "cell_type": "code",
   "execution_count": null,
   "id": "26f1be3f",
   "metadata": {},
   "outputs": [],
   "source": []
  },
  {
   "cell_type": "code",
   "execution_count": null,
   "id": "52df4139",
   "metadata": {},
   "outputs": [],
   "source": []
  },
  {
   "cell_type": "code",
   "execution_count": null,
   "id": "a111b957",
   "metadata": {},
   "outputs": [],
   "source": []
  }
 ],
 "metadata": {
  "kernelspec": {
   "display_name": "Python 3 (ipykernel)",
   "language": "python",
   "name": "python3"
  },
  "language_info": {
   "codemirror_mode": {
    "name": "ipython",
    "version": 3
   },
   "file_extension": ".py",
   "mimetype": "text/x-python",
   "name": "python",
   "nbconvert_exporter": "python",
   "pygments_lexer": "ipython3",
   "version": "3.9.12"
  }
 },
 "nbformat": 4,
 "nbformat_minor": 5
}
